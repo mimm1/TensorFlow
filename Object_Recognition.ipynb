{
 "cells": [
  {
   "cell_type": "code",
   "execution_count": 1,
   "metadata": {},
   "outputs": [],
   "source": [
    "import numpy\n",
    "from keras.models import Sequential\n",
    "from keras.layers import Dense, Dropout, Flatten, BatchNormalization, Activation\n",
    "from keras.layers.convolutional import Conv2D, MaxPooling2D\n",
    "from keras.constraints import maxnorm\n",
    "from keras.utils import np_utils"
   ]
  },
  {
   "cell_type": "code",
   "execution_count": 2,
   "metadata": {},
   "outputs": [],
   "source": [
    "# Set random seed for purposes of reproducibility\n",
    "seed = 21"
   ]
  },
  {
   "cell_type": "code",
   "execution_count": 4,
   "metadata": {},
   "outputs": [],
   "source": [
    "from keras.datasets import cifar10"
   ]
  },
  {
   "cell_type": "code",
   "execution_count": 5,
   "metadata": {},
   "outputs": [
    {
     "name": "stdout",
     "output_type": "stream",
     "text": [
      "Downloading data from https://www.cs.toronto.edu/~kriz/cifar-10-python.tar.gz\n",
      "170500096/170498071 [==============================] - 733s 4us/step\n"
     ]
    }
   ],
   "source": [
    "(X_train, y_train), (X_test, y_test) = cifar10.load_data()"
   ]
  },
  {
   "cell_type": "code",
   "execution_count": 6,
   "metadata": {},
   "outputs": [],
   "source": [
    "# normalize the inputs from 0-255 to between 0 and 1 by dividing by 255\n",
    "    \n",
    "X_train = X_train.astype('float32')\n",
    "X_test = X_test.astype('float32')\n",
    "X_train = X_train / 255.0\n",
    "X_test = X_test / 255.0"
   ]
  },
  {
   "cell_type": "code",
   "execution_count": 7,
   "metadata": {},
   "outputs": [],
   "source": [
    "# one hot encode outputs\n",
    "y_train = np_utils.to_categorical(y_train)\n",
    "y_test = np_utils.to_categorical(y_test)\n",
    "class_num = y_test.shape[1]"
   ]
  },
  {
   "cell_type": "code",
   "execution_count": 8,
   "metadata": {},
   "outputs": [],
   "source": [
    "model = Sequential()"
   ]
  },
  {
   "cell_type": "code",
   "execution_count": 9,
   "metadata": {},
   "outputs": [],
   "source": [
    "model.add(Conv2D(32, (3, 3), input_shape=X_train.shape[1:], padding='same'))\n",
    "model.add(Activation('relu'))"
   ]
  },
  {
   "cell_type": "code",
   "execution_count": 10,
   "metadata": {},
   "outputs": [],
   "source": [
    "model.add(Dropout(0.2))"
   ]
  },
  {
   "cell_type": "code",
   "execution_count": 11,
   "metadata": {},
   "outputs": [],
   "source": [
    "model.add(BatchNormalization())"
   ]
  },
  {
   "cell_type": "code",
   "execution_count": 12,
   "metadata": {},
   "outputs": [],
   "source": [
    "model.add(Conv2D(64, (3, 3), padding='same'))\n",
    "model.add(Activation('relu'))"
   ]
  },
  {
   "cell_type": "code",
   "execution_count": 13,
   "metadata": {},
   "outputs": [],
   "source": [
    "model.add(MaxPooling2D(pool_size=(2, 2)))\n",
    "model.add(Dropout(0.2))\n",
    "model.add(BatchNormalization())"
   ]
  },
  {
   "cell_type": "code",
   "execution_count": 14,
   "metadata": {},
   "outputs": [],
   "source": [
    "model.add(Conv2D(64, (3, 3), padding='same'))\n",
    "model.add(Activation('relu'))\n",
    "model.add(MaxPooling2D(pool_size=(2, 2)))\n",
    "model.add(Dropout(0.2))\n",
    "model.add(BatchNormalization())\n",
    "    \n",
    "model.add(Conv2D(128, (3, 3), padding='same'))\n",
    "model.add(Activation('relu'))\n",
    "model.add(Dropout(0.2))\n",
    "model.add(BatchNormalization())"
   ]
  },
  {
   "cell_type": "code",
   "execution_count": 15,
   "metadata": {},
   "outputs": [],
   "source": [
    "model.add(Flatten())\n",
    "model.add(Dropout(0.2))"
   ]
  },
  {
   "cell_type": "code",
   "execution_count": 16,
   "metadata": {},
   "outputs": [],
   "source": [
    "model.add(Dense(256, kernel_constraint=maxnorm(3)))\n",
    "model.add(Activation('relu'))\n",
    "model.add(Dropout(0.2))\n",
    "model.add(BatchNormalization())\n",
    "    \n",
    "model.add(Dense(128, kernel_constraint=maxnorm(3)))\n",
    "model.add(Activation('relu'))\n",
    "model.add(Dropout(0.2))\n",
    "model.add(BatchNormalization())"
   ]
  },
  {
   "cell_type": "code",
   "execution_count": 17,
   "metadata": {},
   "outputs": [],
   "source": [
    "model.add(Dense(class_num))\n",
    "model.add(Activation('softmax'))"
   ]
  },
  {
   "cell_type": "code",
   "execution_count": 18,
   "metadata": {},
   "outputs": [],
   "source": [
    "epochs = 25\n",
    "optimizer = 'adam'"
   ]
  },
  {
   "cell_type": "code",
   "execution_count": 19,
   "metadata": {},
   "outputs": [],
   "source": [
    "model.compile(loss='categorical_crossentropy', optimizer=optimizer, metrics=['accuracy'])"
   ]
  },
  {
   "cell_type": "code",
   "execution_count": 20,
   "metadata": {},
   "outputs": [
    {
     "name": "stdout",
     "output_type": "stream",
     "text": [
      "Model: \"sequential\"\n",
      "_________________________________________________________________\n",
      "Layer (type)                 Output Shape              Param #   \n",
      "=================================================================\n",
      "conv2d (Conv2D)              (None, 32, 32, 32)        896       \n",
      "_________________________________________________________________\n",
      "activation (Activation)      (None, 32, 32, 32)        0         \n",
      "_________________________________________________________________\n",
      "dropout (Dropout)            (None, 32, 32, 32)        0         \n",
      "_________________________________________________________________\n",
      "batch_normalization (BatchNo (None, 32, 32, 32)        128       \n",
      "_________________________________________________________________\n",
      "conv2d_1 (Conv2D)            (None, 32, 32, 64)        18496     \n",
      "_________________________________________________________________\n",
      "activation_1 (Activation)    (None, 32, 32, 64)        0         \n",
      "_________________________________________________________________\n",
      "max_pooling2d (MaxPooling2D) (None, 16, 16, 64)        0         \n",
      "_________________________________________________________________\n",
      "dropout_1 (Dropout)          (None, 16, 16, 64)        0         \n",
      "_________________________________________________________________\n",
      "batch_normalization_1 (Batch (None, 16, 16, 64)        256       \n",
      "_________________________________________________________________\n",
      "conv2d_2 (Conv2D)            (None, 16, 16, 64)        36928     \n",
      "_________________________________________________________________\n",
      "activation_2 (Activation)    (None, 16, 16, 64)        0         \n",
      "_________________________________________________________________\n",
      "max_pooling2d_1 (MaxPooling2 (None, 8, 8, 64)          0         \n",
      "_________________________________________________________________\n",
      "dropout_2 (Dropout)          (None, 8, 8, 64)          0         \n",
      "_________________________________________________________________\n",
      "batch_normalization_2 (Batch (None, 8, 8, 64)          256       \n",
      "_________________________________________________________________\n",
      "conv2d_3 (Conv2D)            (None, 8, 8, 128)         73856     \n",
      "_________________________________________________________________\n",
      "activation_3 (Activation)    (None, 8, 8, 128)         0         \n",
      "_________________________________________________________________\n",
      "dropout_3 (Dropout)          (None, 8, 8, 128)         0         \n",
      "_________________________________________________________________\n",
      "batch_normalization_3 (Batch (None, 8, 8, 128)         512       \n",
      "_________________________________________________________________\n",
      "flatten (Flatten)            (None, 8192)              0         \n",
      "_________________________________________________________________\n",
      "dropout_4 (Dropout)          (None, 8192)              0         \n",
      "_________________________________________________________________\n",
      "dense (Dense)                (None, 256)               2097408   \n",
      "_________________________________________________________________\n",
      "activation_4 (Activation)    (None, 256)               0         \n",
      "_________________________________________________________________\n",
      "dropout_5 (Dropout)          (None, 256)               0         \n",
      "_________________________________________________________________\n",
      "batch_normalization_4 (Batch (None, 256)               1024      \n",
      "_________________________________________________________________\n",
      "dense_1 (Dense)              (None, 128)               32896     \n",
      "_________________________________________________________________\n",
      "activation_5 (Activation)    (None, 128)               0         \n",
      "_________________________________________________________________\n",
      "dropout_6 (Dropout)          (None, 128)               0         \n",
      "_________________________________________________________________\n",
      "batch_normalization_5 (Batch (None, 128)               512       \n",
      "_________________________________________________________________\n",
      "dense_2 (Dense)              (None, 10)                1290      \n",
      "_________________________________________________________________\n",
      "activation_6 (Activation)    (None, 10)                0         \n",
      "=================================================================\n",
      "Total params: 2,264,458\n",
      "Trainable params: 2,263,114\n",
      "Non-trainable params: 1,344\n",
      "_________________________________________________________________\n",
      "None\n"
     ]
    }
   ],
   "source": [
    "print(model.summary())"
   ]
  },
  {
   "cell_type": "code",
   "execution_count": 21,
   "metadata": {
    "scrolled": true
   },
   "outputs": [
    {
     "name": "stdout",
     "output_type": "stream",
     "text": [
      "Epoch 1/25\n",
      "782/782 [==============================] - 295s 377ms/step - loss: 1.5061 - accuracy: 0.4645 - val_loss: 1.4208 - val_accuracy: 0.5047\n",
      "Epoch 2/25\n",
      "782/782 [==============================] - 315s 402ms/step - loss: 1.0252 - accuracy: 0.6368 - val_loss: 0.8876 - val_accuracy: 0.6886\n",
      "Epoch 3/25\n",
      "782/782 [==============================] - 295s 378ms/step - loss: 0.8523 - accuracy: 0.6997 - val_loss: 0.7786 - val_accuracy: 0.7239\n",
      "Epoch 4/25\n",
      "782/782 [==============================] - 297s 379ms/step - loss: 0.7553 - accuracy: 0.7367 - val_loss: 0.7787 - val_accuracy: 0.7282\n",
      "Epoch 5/25\n",
      "782/782 [==============================] - 300s 384ms/step - loss: 0.6994 - accuracy: 0.7559 - val_loss: 0.7079 - val_accuracy: 0.7552\n",
      "Epoch 6/25\n",
      "782/782 [==============================] - 303s 387ms/step - loss: 0.6626 - accuracy: 0.7683 - val_loss: 0.6939 - val_accuracy: 0.7538\n",
      "Epoch 7/25\n",
      "782/782 [==============================] - 328s 420ms/step - loss: 0.6304 - accuracy: 0.7800 - val_loss: 0.6954 - val_accuracy: 0.7582\n",
      "Epoch 8/25\n",
      "782/782 [==============================] - 310s 396ms/step - loss: 0.6019 - accuracy: 0.7878 - val_loss: 0.6339 - val_accuracy: 0.7775\n",
      "Epoch 9/25\n",
      "782/782 [==============================] - 323s 412ms/step - loss: 0.5801 - accuracy: 0.7976 - val_loss: 0.6225 - val_accuracy: 0.7864\n",
      "Epoch 10/25\n",
      "782/782 [==============================] - 360s 460ms/step - loss: 0.5566 - accuracy: 0.8051 - val_loss: 0.5820 - val_accuracy: 0.8015\n",
      "Epoch 11/25\n",
      "782/782 [==============================] - 347s 443ms/step - loss: 0.5455 - accuracy: 0.8086 - val_loss: 0.5963 - val_accuracy: 0.7985\n",
      "Epoch 12/25\n",
      "782/782 [==============================] - 322s 411ms/step - loss: 0.5207 - accuracy: 0.8190 - val_loss: 0.6023 - val_accuracy: 0.7973\n",
      "Epoch 13/25\n",
      "782/782 [==============================] - 330s 422ms/step - loss: 0.5096 - accuracy: 0.8231 - val_loss: 0.5732 - val_accuracy: 0.8030\n",
      "Epoch 14/25\n",
      "782/782 [==============================] - 324s 414ms/step - loss: 0.4999 - accuracy: 0.8255 - val_loss: 0.5394 - val_accuracy: 0.8177\n",
      "Epoch 15/25\n",
      "782/782 [==============================] - 323s 413ms/step - loss: 0.4849 - accuracy: 0.8305 - val_loss: 0.5583 - val_accuracy: 0.8088\n",
      "Epoch 16/25\n",
      "782/782 [==============================] - 331s 424ms/step - loss: 0.4784 - accuracy: 0.8328 - val_loss: 0.5634 - val_accuracy: 0.8056\n",
      "Epoch 17/25\n",
      "782/782 [==============================] - 344s 440ms/step - loss: 0.4647 - accuracy: 0.8361 - val_loss: 0.5206 - val_accuracy: 0.8222\n",
      "Epoch 18/25\n",
      "782/782 [==============================] - 333s 426ms/step - loss: 0.4583 - accuracy: 0.8391 - val_loss: 0.5445 - val_accuracy: 0.8152\n",
      "Epoch 19/25\n",
      "782/782 [==============================] - 337s 432ms/step - loss: 0.4514 - accuracy: 0.8405 - val_loss: 0.5316 - val_accuracy: 0.8193\n",
      "Epoch 20/25\n",
      "782/782 [==============================] - 329s 420ms/step - loss: 0.4415 - accuracy: 0.8434 - val_loss: 0.5301 - val_accuracy: 0.8223\n",
      "Epoch 21/25\n",
      "782/782 [==============================] - 323s 413ms/step - loss: 0.4383 - accuracy: 0.8468 - val_loss: 0.5184 - val_accuracy: 0.8232\n",
      "Epoch 22/25\n",
      "782/782 [==============================] - 330s 422ms/step - loss: 0.4341 - accuracy: 0.8472 - val_loss: 0.5133 - val_accuracy: 0.8285\n",
      "Epoch 23/25\n",
      "782/782 [==============================] - 325s 416ms/step - loss: 0.4262 - accuracy: 0.8504 - val_loss: 0.5193 - val_accuracy: 0.8239\n",
      "Epoch 24/25\n",
      "782/782 [==============================] - 351s 449ms/step - loss: 0.4233 - accuracy: 0.8522 - val_loss: 0.5045 - val_accuracy: 0.8301\n",
      "Epoch 25/25\n",
      "782/782 [==============================] - 311s 398ms/step - loss: 0.4111 - accuracy: 0.8560 - val_loss: 0.5289 - val_accuracy: 0.8251\n"
     ]
    },
    {
     "data": {
      "text/plain": [
       "<tensorflow.python.keras.callbacks.History at 0x1ec316536d0>"
      ]
     },
     "execution_count": 21,
     "metadata": {},
     "output_type": "execute_result"
    }
   ],
   "source": [
    "numpy.random.seed(seed)\n",
    "model.fit(X_train, y_train, validation_data=(X_test, y_test), epochs=epochs, batch_size=64)"
   ]
  },
  {
   "cell_type": "code",
   "execution_count": 24,
   "metadata": {},
   "outputs": [
    {
     "name": "stdout",
     "output_type": "stream",
     "text": [
      "Accuracy: 82.51%\n"
     ]
    }
   ],
   "source": [
    "# Model evaluation\n",
    "scores = model.evaluate(X_test, y_test, verbose=0)\n",
    "print(\"Accuracy: %.2f%%\" % (scores[1]*100))"
   ]
  },
  {
   "cell_type": "code",
   "execution_count": 25,
   "metadata": {},
   "outputs": [],
   "source": [
    "model.save('object_recognition.h5')"
   ]
  },
  {
   "cell_type": "code",
   "execution_count": 27,
   "metadata": {},
   "outputs": [],
   "source": [
    "from keras.models import load_model"
   ]
  },
  {
   "cell_type": "code",
   "execution_count": 30,
   "metadata": {},
   "outputs": [
    {
     "data": {
      "text/plain": [
       "<tensorflow.python.keras.engine.sequential.Sequential at 0x1ec30dcc880>"
      ]
     },
     "execution_count": 30,
     "metadata": {},
     "output_type": "execute_result"
    }
   ],
   "source": [
    "load_model('object_recognition.h5')"
   ]
  },
  {
   "cell_type": "code",
   "execution_count": null,
   "metadata": {},
   "outputs": [],
   "source": []
  }
 ],
 "metadata": {
  "kernelspec": {
   "display_name": "Python 3",
   "language": "python",
   "name": "python3"
  },
  "language_info": {
   "codemirror_mode": {
    "name": "ipython",
    "version": 3
   },
   "file_extension": ".py",
   "mimetype": "text/x-python",
   "name": "python",
   "nbconvert_exporter": "python",
   "pygments_lexer": "ipython3",
   "version": "3.8.5"
  }
 },
 "nbformat": 4,
 "nbformat_minor": 4
}
